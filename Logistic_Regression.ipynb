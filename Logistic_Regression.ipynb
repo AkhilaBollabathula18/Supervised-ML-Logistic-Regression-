{
  "nbformat": 4,
  "nbformat_minor": 0,
  "metadata": {
    "colab": {
      "private_outputs": true,
      "provenance": []
    },
    "kernelspec": {
      "name": "python3",
      "display_name": "Python 3"
    },
    "language_info": {
      "name": "python"
    }
  },
  "cells": [
    {
      "cell_type": "code",
      "execution_count": null,
      "metadata": {
        "id": "uPTTiKXXKTks"
      },
      "outputs": [],
      "source": [
        "import numpy as np\n",
        "import pandas as pd\n",
        "import matplotlib.pyplot as plt\n",
        "import seaborn as sns"
      ]
    },
    {
      "cell_type": "code",
      "source": [
        "df=pd.read_csv(\"/content/Social_Network_Ads.csv\")\n",
        "df.head()"
      ],
      "metadata": {
        "id": "sJ8qhvYEK51p"
      },
      "execution_count": null,
      "outputs": []
    },
    {
      "cell_type": "code",
      "source": [
        "df.describe()"
      ],
      "metadata": {
        "id": "PsAUPMWGLFP9"
      },
      "execution_count": null,
      "outputs": []
    },
    {
      "cell_type": "code",
      "source": [
        "df.info()"
      ],
      "metadata": {
        "id": "GCamb_ooLHq7"
      },
      "execution_count": null,
      "outputs": []
    },
    {
      "cell_type": "code",
      "source": [
        "df.shape"
      ],
      "metadata": {
        "id": "WmSisOvsLJiN"
      },
      "execution_count": null,
      "outputs": []
    },
    {
      "cell_type": "code",
      "source": [
        "df.isnull().sum()"
      ],
      "metadata": {
        "id": "9XJegqBWLLIb"
      },
      "execution_count": null,
      "outputs": []
    },
    {
      "cell_type": "code",
      "source": [
        "sns.scatterplot(data=df,x=\"Age\",y=\"EstimatedSalary\",hue=\"Purchased\",marker=\"^\")\n",
        "plt.show()"
      ],
      "metadata": {
        "id": "Bfqk4a7ILOee"
      },
      "execution_count": null,
      "outputs": []
    },
    {
      "cell_type": "code",
      "source": [
        "x=df[[\"Age\",\"EstimatedSalary\"]]\n",
        "y=df[[\"Purchased\"]]"
      ],
      "metadata": {
        "id": "YytG9XStLqG_"
      },
      "execution_count": null,
      "outputs": []
    },
    {
      "cell_type": "code",
      "source": [
        "df = df.drop(\"Gender\", axis=1)\n",
        "df=df.drop(\"User ID\",axis=1)\n",
        "df1 = df.corr()\n",
        "df1"
      ],
      "metadata": {
        "id": "1UEfRzedMg4w"
      },
      "execution_count": null,
      "outputs": []
    },
    {
      "cell_type": "code",
      "source": [
        "sns.heatmap(df1,annot=True,cmap=\"summer\",linewidths=0.5,linecolor=\"black\")"
      ],
      "metadata": {
        "id": "4HQGR0BQMkvg"
      },
      "execution_count": null,
      "outputs": []
    },
    {
      "cell_type": "code",
      "source": [
        "x.describe()"
      ],
      "metadata": {
        "id": "Pk5maxDrMocG"
      },
      "execution_count": null,
      "outputs": []
    },
    {
      "cell_type": "code",
      "source": [
        "from sklearn.model_selection import train_test_split\n",
        "x_train,x_test,y_train,y_test=train_test_split(x,y,test_size=0.2)"
      ],
      "metadata": {
        "id": "cN1AbTsXMsir"
      },
      "execution_count": null,
      "outputs": []
    },
    {
      "cell_type": "code",
      "source": [
        "print(x_train.shape)\n",
        "print(x_test.shape)\n",
        "print(y_train.shape)\n",
        "print(y_test.shape)"
      ],
      "metadata": {
        "id": "07-8eNXxMwqL"
      },
      "execution_count": null,
      "outputs": []
    },
    {
      "cell_type": "code",
      "source": [
        "from sklearn.linear_model import LogisticRegression"
      ],
      "metadata": {
        "id": "Y9Kf_fKVNCVh"
      },
      "execution_count": null,
      "outputs": []
    },
    {
      "cell_type": "code",
      "source": [
        "#lr=LogisticRegression(C=1.0,solver=\"liblinear\",multi_class=\"ovr\")\n",
        "#lr.fit(x_train,y_train)"
      ],
      "metadata": {
        "id": "6MMGlzDHNS3x"
      },
      "execution_count": null,
      "outputs": []
    },
    {
      "cell_type": "code",
      "source": [
        "from sklearn.preprocessing import StandardScaler\n",
        "sc=StandardScaler()"
      ],
      "metadata": {
        "id": "ZhLwot51NYgu"
      },
      "execution_count": null,
      "outputs": []
    },
    {
      "cell_type": "code",
      "source": [
        "X_train = sc.fit_transform(x_train)\n",
        "X_test = sc.transform(x_test)"
      ],
      "metadata": {
        "id": "EmwEjTCGNcPP"
      },
      "execution_count": null,
      "outputs": []
    },
    {
      "cell_type": "code",
      "source": [
        "from sklearn.linear_model import LogisticRegression\n",
        "log_reg = LogisticRegression(random_state=49)\n",
        "log_reg.fit(X_train, y_train)"
      ],
      "metadata": {
        "id": "LOf6nb1XNfNi"
      },
      "execution_count": null,
      "outputs": []
    },
    {
      "cell_type": "code",
      "source": [
        "y_pred = log_reg.predict(x_test)\n",
        "y_pred"
      ],
      "metadata": {
        "id": "V-PuyO-WNi8k"
      },
      "execution_count": null,
      "outputs": []
    },
    {
      "cell_type": "code",
      "source": [
        "from sklearn.metrics import confusion_matrix, ConfusionMatrixDisplay\n",
        "cm = confusion_matrix(y_test, y_pred)\n",
        "cm"
      ],
      "metadata": {
        "id": "jQLEbPHzNqKs"
      },
      "execution_count": null,
      "outputs": []
    },
    {
      "cell_type": "code",
      "source": [
        "disp= ConfusionMatrixDisplay(confusion_matrix=cm)\n",
        "disp.plot()\n",
        "plt.show()"
      ],
      "metadata": {
        "id": "mTgtNE5ENuFm"
      },
      "execution_count": null,
      "outputs": []
    },
    {
      "cell_type": "code",
      "source": [
        "from matplotlib.colors import ListedColormap\n",
        "X_1, y_1, = X_train, y_train\n",
        "def plot(X_1,y_1,mset):\n",
        "  X1, X2 = np.meshgrid(np.arange(start = X_1[:, 0].min() - 1, stop = X_1[:, 0].max() + 1, step = 0.01),\n",
        "                     np.arange(start = X_1[:, 1].min() - 1, stop = X_1[:, 1].max() + 1, step = 0.01))\n",
        "  plt.contourf(X1, X2, log_reg.predict(np.array([X1.ravel(), X2.ravel()]).T).reshape(X1.shape),\n",
        "             alpha = 0.75, cmap = ListedColormap(('black', 'yellow')))\n",
        "  plt.xlim(X1.min(), X1.max())\n",
        "  plt.ylim(X2.min(), X2.max())\n",
        "  for i, j in enumerate(np.unique(y_1)):\n",
        "    plt.scatter(X_1[y_1 == j, 0], X_1[y_1 == j, 1],\n",
        "                c = ListedColormap(('red', 'green'))(i), label = j)\n",
        "    plt.title(\"Logistic regression(\"+mset+\")\")\n",
        "    plt.xlabel('Age')\n",
        "    plt.ylabel('Estimated Salary')\n",
        "    plt.legend()\n"
      ],
      "metadata": {
        "id": "i4ifMwY8NzhU"
      },
      "execution_count": null,
      "outputs": []
    },
    {
      "cell_type": "code",
      "source": [
        "from sklearn.metrics import accuracy_score\n",
        "print(accuracy_score(y_test,y_pred))"
      ],
      "metadata": {
        "id": "JHslpBhpN4A4"
      },
      "execution_count": null,
      "outputs": []
    },
    {
      "cell_type": "code",
      "source": [
        "log_reg.coef_"
      ],
      "metadata": {
        "id": "QCepFrirN89U"
      },
      "execution_count": null,
      "outputs": []
    },
    {
      "cell_type": "code",
      "source": [
        "log_reg.intercept_"
      ],
      "metadata": {
        "id": "SK6g-cCKOCUo"
      },
      "execution_count": null,
      "outputs": []
    },
    {
      "cell_type": "code",
      "source": [
        "plt.show(plot(X_1,y_1,\"Training data\"))"
      ],
      "metadata": {
        "id": "iyb-PmqyOFAe"
      },
      "execution_count": null,
      "outputs": []
    },
    {
      "cell_type": "code",
      "source": [
        "X_2, y_2 = X_test, y_test\n",
        "def plot_1(X_2,y_2,mset):\n",
        "  x1,x2= np.meshgrid(np.arange(start = X_2[:, 0].min() - 1, stop = X_2[:, 0].max() + 1, step = 0.01),\n",
        "                     np.arange(start = X_2[:, 1].min() - 1, stop = X_2[:, 1].max() + 1, step = 0.01))\n",
        "  plt.contourf(x1, x2,log_reg.predict(np.array([x1.ravel(), x2.ravel()]).T).reshape(x1.shape),\n",
        "             alpha = 0.75, cmap = ListedColormap((\"pink\",\"yellow\")))\n",
        "  plt.xlim(x1.min(), x1.max())\n",
        "  plt.ylim(x2.min(), x2.max())\n",
        "  for i, j in enumerate(np.unique(y_2)):\n",
        "   plt.scatter(X_2[y_2== j, 0], X_2[y_2 == j, 1],\n",
        "                c = ListedColormap(('blue', 'black'))(i), label = j)\n",
        "   plt.title(\"Logistic Regression(\"+mset+\")\")\n",
        "   plt.xlabel('Age')\n",
        "   plt.ylabel('Estimated Salary')\n",
        "   plt.legend()\n",
        ""
      ],
      "metadata": {
        "id": "1PNWXnEaOS0Y"
      },
      "execution_count": null,
      "outputs": []
    },
    {
      "cell_type": "code",
      "source": [
        "plot_1(X_test, y_test, \"Testing data\")\n"
      ],
      "metadata": {
        "id": "bK7xa8ZBOT7w"
      },
      "execution_count": null,
      "outputs": []
    }
  ]
}